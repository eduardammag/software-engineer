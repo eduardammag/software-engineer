{
 "cells": [
  {
   "cell_type": "code",
   "execution_count": null,
   "id": "5d8e4027",
   "metadata": {},
   "outputs": [],
   "source": [
    "from abc import ABC, abstractmethod\n",
    "\n",
    "class Chair(ABC):\n",
    "    @abstractmethod\n",
    "    def sit(self)->None:...\n",
    "class ArmChair(Chair):\n",
    "    def sit(self)->None:\n",
    "        print(\"Você está sentado em uma poltrona confortável para leitura\")\n",
    "class FoldingChair(Chair):\n",
    "    def sit(self)->None:\n",
    "        print(\"Você está sentado em uma cadeira dobrável de bar\")\n",
    "class BeanBag(Chair):\n",
    "    def sit(self)->None:\n",
    "        print(\"Você está sentado em um puf no chão.\")\n",
    "class RockingChair(Chair):\n",
    "    def sit(self)->None:\n",
    "        print(\"Você está sentado em uma cadeira de balanco.\")\n",
    "\n",
    "class ChairFactory:\n",
    "    @staticmethod\n",
    "    def get_chair(type_:str)-> Chair:\n",
    "        if type_ == 'arm_chair':\n",
    "            return ArmChair()\n",
    "        if type_ == 'folding_chair':\n",
    "            return FoldingChair()\n",
    "        if type_ == 'bean_bag_chair':\n",
    "            return BeanBag()\n",
    "        \n",
    "chairs = []\n",
    "chairs.append(ChairFactory.get_chair('arm_chair'))\n",
    "chairs.append(ChairFactory.get_chair('bean_bag_chair'))\n",
    "chairs.append(ChairFactory.get_chair('bean_bag_chair'))\n",
    "chairs.append(ChairFactory.get_chair('bean_bag_chair'))\n",
    "chairs.append(ChairFactory.get_chair('bean_bag_chair'))\n",
    "chairs.append(ChairFactory.get_chair('bean_bag_chair'))\n",
    "chairs.append(ChairFactory.get_chair('bean_bag_chair'))\n",
    "chairs.append(ChairFactory.get_chair('bean_bag_chair'))\n",
    "\n",
    "        "
   ]
  },
  {
   "cell_type": "code",
   "execution_count": 19,
   "id": "4cb29f58",
   "metadata": {},
   "outputs": [
    {
     "name": "stdout",
     "output_type": "stream",
     "text": [
      "Você está sentado em uma poltrona confortável para leitura\n",
      "None\n",
      "Você está sentado em um puf no chão.\n",
      "None\n",
      "Você está sentado em um puf no chão.\n",
      "None\n",
      "Você está sentado em um puf no chão.\n",
      "None\n",
      "Você está sentado em um puf no chão.\n",
      "None\n",
      "Você está sentado em um puf no chão.\n",
      "None\n",
      "Você está sentado em um puf no chão.\n",
      "None\n",
      "Você está sentado em um puf no chão.\n",
      "None\n"
     ]
    }
   ],
   "source": [
    "for chair in chairs:\n",
    "    print(chair.sit())"
   ]
  },
  {
   "cell_type": "code",
   "execution_count": null,
   "id": "cb247ab4",
   "metadata": {},
   "outputs": [],
   "source": [
    "class LilleII(Chair):\n",
    "    def sit(self)->None:\n",
    "        print(\"Você não apenas está sentando... \")\n",
    "class Solis(Chair):\n",
    "    def sit(self)->None:\n",
    "        print(\"Você não apenas está sentando... \")\n",
    "\n"
   ]
  },
  {
   "cell_type": "code",
   "execution_count": null,
   "id": "9f0b4827",
   "metadata": {},
   "outputs": [],
   "source": [
    "class ChairFactory(ABC):\n",
    "    @staticmethod\n",
    "    def get_chair(type_:str)-> Chair: ...\n",
    "class TokStokChairFactory(ChairFactory):\n",
    "    @staticmethod\n",
    "    def get_chair(type_:str)-> Chair:\n",
    "        if type_ == 'arm_chair':\n",
    "            return ArmChair()\n",
    "        if type_ == 'folding_chair':\n",
    "            return FoldingChair()\n",
    "        if type_ == 'bean_bag_chair':\n",
    "            return BeanBag()\n",
    "\n",
    "class ArtefactoChairFactory(ChairFactory):\n",
    "    @staticmethod\n",
    "    def get_chair(type_:str)->Chair: \n",
    "        if type_ == \"lilleII\":\n",
    "            return LilleII()\n",
    "        if type_ == \"solis\":\n",
    "            return Solis()   \n",
    " "
   ]
  },
  {
   "cell_type": "code",
   "execution_count": 29,
   "id": "c997fa79",
   "metadata": {},
   "outputs": [
    {
     "name": "stdout",
     "output_type": "stream",
     "text": [
      "Cliente solicitando cadeira | arm_chair\n",
      "Você está sentado em uma poltrona confortável para leitura\n",
      "Cliente solicitando cadeira | bean_bag_chair\n",
      "Você está sentado em um puf no chão.\n",
      "Cliente solicitando cadeira | folding_chair\n",
      "Você está sentado em uma cadeira dobrável de bar\n"
     ]
    }
   ],
   "source": [
    "lista_de_pedidos_tok_stok = [\"arm_chair\",\"bean_bag_chair\",\"folding_chair\"]\n",
    "for p in lista_de_pedidos_tok_stok:\n",
    "    print(f\"Cliente solicitando cadeira | {p}\")\n",
    "    cad = TokStokChairFactory.get_chair(p)\n",
    "    cad.sit()"
   ]
  },
  {
   "cell_type": "code",
   "execution_count": null,
   "id": "f01880a3",
   "metadata": {},
   "outputs": [],
   "source": [
    "from typing import Type\n",
    "factory_ref: Type[ChairFactory]\n",
    "factory_ref = TokStokChairFactory #unico ponto de decisao\n"
   ]
  }
 ],
 "metadata": {
  "kernelspec": {
   "display_name": "deepenv",
   "language": "python",
   "name": "python3"
  },
  "language_info": {
   "codemirror_mode": {
    "name": "ipython",
    "version": 3
   },
   "file_extension": ".py",
   "mimetype": "text/x-python",
   "name": "python",
   "nbconvert_exporter": "python",
   "pygments_lexer": "ipython3",
   "version": "3.11.13"
  }
 },
 "nbformat": 4,
 "nbformat_minor": 5
}
